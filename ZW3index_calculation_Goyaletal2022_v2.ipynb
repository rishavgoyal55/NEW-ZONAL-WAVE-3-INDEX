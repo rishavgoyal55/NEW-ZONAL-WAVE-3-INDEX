{
 "cells": [
  {
   "cell_type": "markdown",
   "id": "af8f051b-3522-49e9-8f3f-41025c04bdc5",
   "metadata": {},
   "source": [
    "## Code to compute ZW3 index using Goyal et al., (2022) Journal of Climate\n",
    "\n",
    "\"A new zonal wave 3 index for the Southern Hemisphere\" by Goyal, R., Jucker, M., Sen Gupta, A., England, M.\n",
    "\n",
    "DOI: https://doi.org/10.1175/JCLI-D-21-0927.1\n",
    "\n",
    "For any suggestions / concerns, \n",
    "please contact - Dr. Rishav Goyal\n",
    "rishav.goyal@unsw.edu.au, \n",
    "rishav.goyal@outlook.com"
   ]
  },
  {
   "cell_type": "markdown",
   "id": "71cdbae5-2106-4551-a966-7ab77925a898",
   "metadata": {},
   "source": [
    "## Requirements\n",
    "\n",
    "You need to download python EOF package from https://ajdawson.github.io/eofs/latest/"
   ]
  },
  {
   "cell_type": "code",
   "execution_count": null,
   "id": "b6f3a3c7-050a-4e76-9825-b288babb4419",
   "metadata": {},
   "outputs": [],
   "source": [
    "# Load modules\n",
    "\n",
    "import numpy as np\n",
    "import scipy as sc\n",
    "import xarray as xr\n",
    "import matplotlib.pyplot as plt\n",
    "from eofs.standard import Eof\n",
    "import cartopy.crs as ccrs\n",
    "import cartopy.crs as ccrs\n",
    "import cartopy\n",
    "import matplotlib as mpl\n",
    "import scipy as sc\n",
    "import cartopy.feature\n",
    "import matplotlib.path as mpath\n",
    "from cartopy.util import add_cyclic_point as cycpt\n",
    "from cartopy.mpl.gridliner import LONGITUDE_FORMATTER, LATITUDE_FORMATTER\n",
    "import matplotlib.ticker as mticker"
   ]
  },
  {
   "cell_type": "code",
   "execution_count": null,
   "id": "1ca42d7e-dbf6-4ada-bbf8-99667ba5db90",
   "metadata": {},
   "outputs": [],
   "source": [
    "# Read data\n",
    "\n",
    "ds = xr.open_dataset('/files/data/v_era5.nc')"
   ]
  },
  {
   "cell_type": "code",
   "execution_count": null,
   "id": "560a0d15-47a3-4d73-9749-686bc3354a9a",
   "metadata": {},
   "outputs": [],
   "source": [
    "# Subsample data to only consider meridional winds at 500 hPa and from 40S - 70S and then calculate monthly anomalies\n",
    "\n",
    "v = ds.v.sel(level=500, time=slice('1979','2020')).sel(latitude=slice(-40,-70)).groupby('time.month') - ds.v.sel(level=500, time=slice('1979','2020')).sel(latitude=slice(-40,-70)).groupby('time.month').mean(dim='time')"
   ]
  },
  {
   "cell_type": "code",
   "execution_count": null,
   "id": "dd76c553-832d-4da0-aae8-a33a878611ea",
   "metadata": {},
   "outputs": [],
   "source": [
    "# Carry out the EOFs\n",
    "\n",
    "lat    = v.latitude\n",
    "coslat = np.cos(np.deg2rad(lat.values)).clip(0.,1.)\n",
    "wgts   = np.sqrt(coslat)[...,np.newaxis]\n",
    "solver = Eof(v.values, weights=wgts)\n",
    "eof    = solver.eofsAsCovariance(neofs=6)\n",
    "pcs    = solver.pcs(npcs=6, pcscaling=1)\n",
    "var    = solver.varianceFraction()"
   ]
  },
  {
   "cell_type": "code",
   "execution_count": null,
   "id": "8bbebcef-5fa3-4549-bc26-8b409fd2f3c4",
   "metadata": {},
   "outputs": [],
   "source": [
    "# Calculate the ZW3 magnitude and phase indices\n",
    "\n",
    "zw3magnitude_index = (pcs[:,0]**2 + pcs[:,1]**2)**0.5\n",
    "\n",
    "zw3phase_index = np.zeros(len(v[:,0,0]) * np.nan\n",
    "\n",
    "for i in range(len(v[:,0,0]):\n",
    "    if((pcs[i,0]>0) and (pcs[i,1]>0)):\n",
    "        zw3phase_index[i] = np.arctan(pcs[i,1] / pcs[i,0]) * 180 / (np.pi)\n",
    "    elif((pcs[i,0]<0) and (pcs[i,1]>0)):\n",
    "        zw3phase_index[i] = (np.arctan(pcs[i,1] / pcs[i,0]) * 180 / (np.pi)) + 180\n",
    "    elif((pcs[i,0]>0) and (pcs[i,1]<0)):\n",
    "        zw3phase_index[i] = (np.arctan(pcs[i,1] / pcs[i,0]) * 180 / (np.pi))\n",
    "    elif((pcs[i,0]<0) and (pcs[i,1]<0)):\n",
    "        zw3phase_index[i] = (np.arctan(pcs[i,1] / pcs[i,0]) * 180 / (np.pi)) - 180"
   ]
  },
  {
   "cell_type": "code",
   "execution_count": null,
   "id": "2f400403-e51e-4538-ac9f-cdd2e130660c",
   "metadata": {},
   "outputs": [],
   "source": [
    "# Save all variables in an xarray (can be then exported to netcdf files directly by using .to_netcdf function)\n",
    "\n",
    "magnitude_index = xr.DataArray(zw3magnitude_index, coords=[v.time], name='zw3index_magnitude')\n",
    "phase_index     = xr.DataArray(zw3phase_index, coords=[v.time], name='zw3index_phase')\n",
    "pc1             = xr.DataArray(pcs[:,0], coords=[v.time], name='pc1')\n",
    "pc2             = xr.DataArray(pcs[:,1], coords=[v.time], name='pc2')"
   ]
  }
 ],
 "metadata": {
  "kernelspec": {
   "display_name": "Python 3 (ipykernel)",
   "language": "python",
   "name": "python3"
  },
  "language_info": {
   "codemirror_mode": {
    "name": "ipython",
    "version": 3
   },
   "file_extension": ".py",
   "mimetype": "text/x-python",
   "name": "python",
   "nbconvert_exporter": "python",
   "pygments_lexer": "ipython3",
   "version": "3.9.15"
  }
 },
 "nbformat": 4,
 "nbformat_minor": 5
}
